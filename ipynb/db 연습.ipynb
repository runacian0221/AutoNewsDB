{
 "cells": [
  {
   "cell_type": "code",
   "execution_count": 9,
   "metadata": {},
   "outputs": [],
   "source": [
    "import pymysql\n",
    "\n",
    "connection = pymysql.connect(host=\"101.101.208.151\",\n",
    "                             port=3306, \n",
    "                             user=\"kdt\", \n",
    "                             password=\"kdt1234!@\",\n",
    "                             database=\"news_db\",\n",
    "                             charset=\"utf8mb4\")"
   ]
  },
  {
   "cell_type": "code",
   "execution_count": 10,
   "metadata": {},
   "outputs": [],
   "source": [
    "tables = [\n",
    "    \n",
    "\n",
    "\n",
    "\"\"\"\n",
    "CREATE TABLE sub_category(\n",
    "    sub_id INT NOT NULL AUTO_INCREMENT,\n",
    "    name VARCHAR(64),\n",
    "    PRIMARY KEY(sub_id)\n",
    ");\n",
    "\"\"\",\n",
    "\n",
    "\"\"\"\n",
    "CREATE TABLE main_category(\n",
    "    main_id INT NOT NULL AUTO_INCREMENT,\n",
    "    name VARCHAR(64),\n",
    "    PRIMARY KEY(main_id)\n",
    ");\n",
    "\"\"\",\n",
    "\n",
    "\"\"\"\n",
    "CREATE TABLE platform_info(\n",
    "    platform_id INT NOT NULL AUTO_INCREMENT,\n",
    "    name VARCHAR(64),\n",
    "    PRIMARY KEY(platform_id)\n",
    ");\n",
    "\"\"\",\n",
    "\"\"\"\n",
    "CREATE TABLE news(\n",
    "    news_id INT NOT NULL AUTO_INCREMENT,\n",
    "    title VARCHAR(255),\n",
    "    writer VARCHAR(255),\n",
    "    content TEXT,\n",
    "    writed_at DATETIME,\n",
    "    url VARCHAR(255),\n",
    "    PRIMARY KEY(news_id),\n",
    "    main_id INT,\n",
    "    sub_id INT,\n",
    "    platform_id INT,\n",
    "    FOREIGN KEY (main_id) REFERENCES main_category (main_id),\n",
    "    FOREIGN KEY (sub_id) REFERENCES sub_category (sub_id),\n",
    "    FOREIGN KEY (platform_id) REFERENCES platform_info (platform_id)\n",
    ");\n",
    "\"\"\",\n",
    "\"\"\"    \n",
    "CREATE TABLE sticker(\n",
    "    sticker_id INT NOT NULL AUTO_INCREMENT,\n",
    "    sticker_name VARCHAR(64),\n",
    "    count INT,\n",
    "    news_id INT,\n",
    "    PRIMARY KEY(sticker_id),\n",
    "    FOREIGN KEY (news_id) REFERENCES news (news_id)\n",
    ");\n",
    "\"\"\",\n",
    "\n",
    "\"\"\"    \n",
    "CREATE TABLE comment(\n",
    "    comment_id INT NOT NULL AUTO_INCREMENT,\n",
    "    comment VARCHAR(255),\n",
    "    news_id INT,\n",
    "    PRIMARY KEY(comment_id),\n",
    "    FOREIGN KEY (news_id) REFERENCES news (news_id)\n",
    ");\n",
    "\"\"\"]\n"
   ]
  },
  {
   "cell_type": "code",
   "execution_count": 11,
   "metadata": {},
   "outputs": [],
   "source": [
    "with connection.cursor() as cursor:\n",
    "    for table in tables:\n",
    "        cursor.execute(table)\n",
    "connection.commit()"
   ]
  },
  {
   "cell_type": "code",
   "execution_count": 17,
   "metadata": {},
   "outputs": [
    {
     "name": "stdout",
     "output_type": "stream",
     "text": [
      "9\n",
      "(('news_id', 'int(11)', 'NO', 'PRI', None, 'auto_increment'), ('title', 'varchar(255)', 'YES', '', None, ''), ('writer', 'varchar(255)', 'YES', '', None, ''), ('content', 'text', 'YES', '', None, ''), ('writed_at', 'datetime', 'YES', '', None, ''), ('url', 'varchar(255)', 'YES', '', None, ''), ('main_id', 'int(11)', 'YES', 'MUL', None, ''), ('sub_id', 'int(11)', 'YES', 'MUL', None, ''), ('platform_id', 'int(11)', 'YES', 'MUL', None, ''))\n"
     ]
    }
   ],
   "source": [
    "with connection.cursor() as cursor:\n",
    "    #print(cursor.execute('SHOW TABLES'))\n",
    "    print(cursor.execute('describe news')) #테이블 개수 보여줌\n",
    "    print(cursor.fetchall())"
   ]
  },
  {
   "cell_type": "code",
   "execution_count": 14,
   "metadata": {},
   "outputs": [
    {
     "data": {
      "text/plain": [
       "9"
      ]
     },
     "execution_count": 14,
     "metadata": {},
     "output_type": "execute_result"
    }
   ],
   "source": [
    "t_cur = connection.cursor(pymysql.cursors.DictCursor)\n",
    "t_cur.execute('select * from information_schema.columns where table_schema = %s and table_name = %s',\n",
    "                ('news_db', 'news'))"
   ]
  }
 ],
 "metadata": {
  "kernelspec": {
   "display_name": "study",
   "language": "python",
   "name": "python3"
  },
  "language_info": {
   "codemirror_mode": {
    "name": "ipython",
    "version": 3
   },
   "file_extension": ".py",
   "mimetype": "text/x-python",
   "name": "python",
   "nbconvert_exporter": "python",
   "pygments_lexer": "ipython3",
   "version": "3.10.9"
  },
  "orig_nbformat": 4
 },
 "nbformat": 4,
 "nbformat_minor": 2
}
